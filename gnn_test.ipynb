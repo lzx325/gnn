{
 "cells": [
  {
   "cell_type": "code",
   "execution_count": 59,
   "metadata": {},
   "outputs": [],
   "source": [
    "import numpy as np\n",
    "import scipy.sparse as sp\n",
    "import os\n",
    "import scipy.io\n",
    "import tensorflow as tf"
   ]
  },
  {
   "cell_type": "code",
   "execution_count": 60,
   "metadata": {},
   "outputs": [],
   "source": [
    "import gnn.GNN as GNN\n",
    "import gnn.gnn_utils as gnn_utils\n",
    "import examples.Net_Subgraph as n\n",
    "import gnn.load as ld\n",
    "import networkx as nx"
   ]
  },
  {
   "cell_type": "code",
   "execution_count": 61,
   "metadata": {},
   "outputs": [
    {
     "name": "stdout",
     "output_type": "stream",
     "text": [
      "The autoreload extension is already loaded. To reload it, use:\n",
      "  %reload_ext autoreload\n"
     ]
    }
   ],
   "source": [
    "%load_ext autoreload\n",
    "%autoreload 2"
   ]
  },
  {
   "cell_type": "markdown",
   "metadata": {},
   "source": [
    "### Example"
   ]
  },
  {
   "cell_type": "code",
   "execution_count": 62,
   "metadata": {},
   "outputs": [],
   "source": [
    "E_tot = [[0, 1, 0],\n",
    "         [0, 2, 0],\n",
    "         [0, 4, 0],\n",
    "         [1, 0, 0],\n",
    "         [1, 2, 0],\n",
    "         [1, 3, 0],\n",
    "         [2, 0, 0],\n",
    "         [2, 1, 0],\n",
    "         [2, 3, 0],\n",
    "         [2, 4, 0],\n",
    "         [3, 1, 0],\n",
    "         [3, 2, 0],\n",
    "         [4, 0, 0],\n",
    "         [4, 2, 0],\n",
    "         [5, 7, 1],\n",
    "         [5, 8, 1],\n",
    "         [6, 7, 1],\n",
    "         [6, 8, 1],\n",
    "         [7, 5, 1],\n",
    "         [7, 6, 1],\n",
    "         [7, 8, 1],\n",
    "         [8, 5, 1],\n",
    "         [8, 6, 1],\n",
    "         [8, 7, 1]]\n",
    "N_tot = [[1., 0., 0., 0., 0., 0., 0., 0., 0., 0.],\n",
    "         [0., 1., 0., 0., 0., 0., 0., 0., 0., 0.],\n",
    "         [0., 0., 1., 0., 0., 0., 0., 0., 0., 0.],\n",
    "         [0., 0., 0., 1., 0., 0., 0., 0., 0., 0.],\n",
    "         [0., 0., 0., 0., 1., 0., 0., 0., 0., 0.],\n",
    "         [0., 0., 0., 0., 0., 1., 0., 0., 0., 0.],\n",
    "         [0., 0., 0., 0., 0., 0., 1., 0., 0., 0.],\n",
    "         [0., 0., 0., 0., 0., 0., 0., 1., 0., 0.],\n",
    "         [0., 0., 0., 0., 0., 0., 0., 0., 1., 0.]]"
   ]
  },
  {
   "cell_type": "code",
   "execution_count": 63,
   "metadata": {},
   "outputs": [],
   "source": [
    "E_tot=np.array(E_tot)\n",
    "N_tot=np.array(N_tot)"
   ]
  },
  {
   "cell_type": "code",
   "execution_count": 64,
   "metadata": {},
   "outputs": [],
   "source": [
    "inp, arcnode, graphnode = gnn_utils.from_EN_to_GNN(E_tot, N_tot)\n",
    "\n",
    "# random labels\n",
    "labels = np.random.randint(2, size=(N_tot.shape[0]))\n",
    "labels = np.eye(max(labels)+1, dtype=np.int32)[labels]  # one-hot encoding of labels"
   ]
  },
  {
   "cell_type": "code",
   "execution_count": 66,
   "metadata": {},
   "outputs": [
    {
     "data": {
      "text/plain": [
       "(24, 3)"
      ]
     },
     "execution_count": 66,
     "metadata": {},
     "output_type": "execute_result"
    }
   ],
   "source": [
    "E_tot.shape"
   ]
  },
  {
   "cell_type": "code",
   "execution_count": 65,
   "metadata": {},
   "outputs": [
    {
     "data": {
      "text/plain": [
       "SparseMatrix(indices=array([[ 0,  0],\n",
       "       [ 0,  1],\n",
       "       [ 0,  2],\n",
       "       [ 1,  3],\n",
       "       [ 1,  4],\n",
       "       [ 1,  5],\n",
       "       [ 2,  6],\n",
       "       [ 2,  7],\n",
       "       [ 2,  8],\n",
       "       [ 2,  9],\n",
       "       [ 3, 10],\n",
       "       [ 3, 11],\n",
       "       [ 4, 12],\n",
       "       [ 4, 13],\n",
       "       [ 5, 14],\n",
       "       [ 5, 15],\n",
       "       [ 6, 16],\n",
       "       [ 6, 17],\n",
       "       [ 7, 18],\n",
       "       [ 7, 19],\n",
       "       [ 7, 20],\n",
       "       [ 8, 21],\n",
       "       [ 8, 22],\n",
       "       [ 8, 23]]), values=array([1., 1., 1., 1., 1., 1., 1., 1., 1., 1., 1., 1., 1., 1., 1., 1., 1.,\n",
       "       1., 1., 1., 1., 1., 1., 1.], dtype=float32), dense_shape=[9, 24])"
      ]
     },
     "execution_count": 65,
     "metadata": {},
     "output_type": "execute_result"
    }
   ],
   "source": [
    "arcnode"
   ]
  },
  {
   "cell_type": "code",
   "execution_count": 7,
   "metadata": {},
   "outputs": [],
   "source": [
    "threshold = 0.01\n",
    "learning_rate = 0.01\n",
    "state_dim = 5\n",
    "input_dim = inp.shape[1]\n",
    "output_dim = labels.shape[1]\n",
    "max_it = 50\n",
    "num_epoch = 10000"
   ]
  },
  {
   "cell_type": "code",
   "execution_count": 8,
   "metadata": {},
   "outputs": [
    {
     "name": "stdout",
     "output_type": "stream",
     "text": [
      "WARNING:tensorflow:From /home/liz0f/gnn/gnn/GNN.py:27: The name tf.set_random_seed is deprecated. Please use tf.compat.v1.set_random_seed instead.\n",
      "\n",
      "WARNING:tensorflow:From /home/liz0f/gnn/gnn/GNN.py:58: The name tf.placeholder is deprecated. Please use tf.compat.v1.placeholder instead.\n",
      "\n",
      "WARNING:tensorflow:From /home/liz0f/gnn/gnn/GNN.py:66: The name tf.sparse_placeholder is deprecated. Please use tf.compat.v1.sparse_placeholder instead.\n",
      "\n",
      "WARNING:tensorflow:From /home/liz0f/gnn/gnn/GNN.py:153: The name tf.variable_scope is deprecated. Please use tf.compat.v1.variable_scope instead.\n",
      "\n",
      "WARNING:tensorflow:From /home/liz0f/gnn/examples/Net_Subgraph.py:34: dense (from tensorflow.python.layers.core) is deprecated and will be removed in a future version.\n",
      "Instructions for updating:\n",
      "Use keras.layers.Dense instead.\n",
      "WARNING:tensorflow:From /home/liz0f/app/anaconda3/envs/tf1_15/lib/python3.7/site-packages/tensorflow_core/python/layers/core.py:187: Layer.apply (from tensorflow.python.keras.engine.base_layer) is deprecated and will be removed in a future version.\n",
      "Instructions for updating:\n",
      "Please use `layer.__call__` method instead.\n",
      "WARNING:tensorflow:From /home/liz0f/gnn/gnn/GNN.py:130: The name tf.sparse_tensor_dense_matmul is deprecated. Please use tf.sparse.sparse_dense_matmul instead.\n",
      "\n",
      "WARNING:tensorflow:From /home/liz0f/gnn/examples/Net_Subgraph.py:50: The name tf.log is deprecated. Please use tf.math.log instead.\n",
      "\n",
      "WARNING:tensorflow:From /home/liz0f/app/anaconda3/envs/tf1_15/lib/python3.7/site-packages/tensorflow_core/python/ops/math_grad.py:1424: where (from tensorflow.python.ops.array_ops) is deprecated and will be removed in a future version.\n",
      "Instructions for updating:\n",
      "Use tf.where in 2.0, which has the same broadcast rule as np.where\n",
      "WARNING:tensorflow:From /home/liz0f/gnn/gnn/GNN.py:40: The name tf.Session is deprecated. Please use tf.compat.v1.Session instead.\n",
      "\n"
     ]
    },
    {
     "name": "stderr",
     "output_type": "stream",
     "text": [
      "/home/liz0f/app/anaconda3/envs/tf1_15/lib/python3.7/site-packages/tensorflow_core/python/framework/indexed_slices.py:424: UserWarning: Converting sparse IndexedSlices to a dense Tensor of unknown shape. This may consume a large amount of memory.\n",
      "  \"Converting sparse IndexedSlices to a dense Tensor of unknown shape. \"\n"
     ]
    },
    {
     "name": "stdout",
     "output_type": "stream",
     "text": [
      "WARNING:tensorflow:From /home/liz0f/gnn/gnn/GNN.py:42: The name tf.global_variables_initializer is deprecated. Please use tf.compat.v1.global_variables_initializer instead.\n",
      "\n",
      "WARNING:tensorflow:From /home/liz0f/gnn/gnn/GNN.py:43: The name tf.local_variables_initializer is deprecated. Please use tf.compat.v1.local_variables_initializer instead.\n",
      "\n"
     ]
    }
   ],
   "source": [
    "# Create the state transition function, output function, loss function and  metrics\n",
    "net = n.Net(input_dim, state_dim, output_dim)\n",
    "\n",
    "# Create the graph neural network model\n",
    "g = GNN.GNN(net, input_dim, output_dim, state_dim)"
   ]
  },
  {
   "cell_type": "markdown",
   "metadata": {},
   "source": [
    "### Graph"
   ]
  },
  {
   "cell_type": "code",
   "execution_count": 4,
   "metadata": {},
   "outputs": [],
   "source": [
    "mat_dir=\"./Data\"\n",
    "mat_fn=\"sub_15_7_200\"\n",
    "mat=ld.loadmat(os.path.join(mat_dir,mat_fn))\n",
    "train=mat['dataSet'][\"trainSet\"]\n",
    "target=np.array(train['targets'])"
   ]
  },
  {
   "cell_type": "code",
   "execution_count": 58,
   "metadata": {},
   "outputs": [
    {
     "data": {
      "text/plain": [
       "<3000x3000 sparse matrix of type '<class 'numpy.float64'>'\n",
       "\twith 9062 stored elements in Compressed Sparse Column format>"
      ]
     },
     "execution_count": 58,
     "metadata": {},
     "output_type": "execute_result"
    }
   ],
   "source": [
    "train['connMatrix']"
   ]
  },
  {
   "cell_type": "code",
   "execution_count": 20,
   "metadata": {},
   "outputs": [
    {
     "data": {
      "text/plain": [
       "<matplotlib.collections.LineCollection at 0x14c1e4ad5590>"
      ]
     },
     "execution_count": 20,
     "metadata": {},
     "output_type": "execute_result"
    },
    {
     "data": {
      "image/png": "[encoded data removed]",
      "text/plain": [
       "<Figure size 432x288 with 1 Axes>"
      ]
     },
     "metadata": {},
     "output_type": "display_data"
    }
   ],
   "source": [
    "graph=nx.from_scipy_sparse_matrix(train['connMatrix'])\n",
    "component_no=4\n",
    "component_size=15\n",
    "node_list=range(component_no*component_size,(component_no+1)*component_size)\n",
    "G=nx.subgraph(graph,node_list)\n",
    "target_G=target[node_list]\n",
    "pos_nodes=(target_G==1).nonzero()[0]+component_no*component_size\n",
    "G_sub=nx.subgraph(G,pos_nodes)\n",
    "pos=nx.spring_layout(G_sub)\n",
    "nx.draw_networkx_nodes(G_sub,pos,nodelist=pos_nodes,node_color='red')\n",
    "nx.draw_networkx_edges(G_sub,pos,nodelist=pos_nodes)"
   ]
  },
  {
   "cell_type": "code",
   "execution_count": 17,
   "metadata": {},
   "outputs": [
    {
     "data": {
      "text/plain": [
       "<matplotlib.collections.LineCollection at 0x14c1e4bc9fd0>"
      ]
     },
     "execution_count": 17,
     "metadata": {},
     "output_type": "execute_result"
    },
    {
     "data": {
      "image/png": "[encoded data removed]",
      "text/plain": [
       "<Figure size 432x288 with 1 Axes>"
      ]
     },
     "metadata": {},
     "output_type": "display_data"
    }
   ],
   "source": [
    "graph=nx.from_scipy_sparse_matrix(train['connMatrix'])\n",
    "component_no=10\n",
    "component_size=15\n",
    "node_list=range(component_no*component_size,(component_no+1)*component_size)\n",
    "G=nx.subgraph(graph,node_list)\n",
    "target_G=target[node_list]\n",
    "pos=nx.spring_layout(G)\n",
    "pos_nodes=(target_G==1).nonzero()[0]+component_no*component_size\n",
    "neg_nodes=(target_G==-1).nonzero()[0]+component_no*component_size\n",
    "nx.draw_networkx_nodes(G,pos,nodelist=pos_nodes,node_color='red')\n",
    "nx.draw_networkx_nodes(G,pos,nodelist=neg_nodes,node_color='blue')\n",
    "nx.draw_networkx_edges(G,pos)"
   ]
  },
  {
   "cell_type": "markdown",
   "metadata": {},
   "source": [
    "### tf.sparse"
   ]
  },
  {
   "cell_type": "code",
   "execution_count": 5,
   "metadata": {},
   "outputs": [],
   "source": [
    "st=tf.sparse.SparseTensor(indices=[[0, 0], [1, 2]], values=[1, 2], dense_shape=[3, 4])"
   ]
  },
  {
   "cell_type": "code",
   "execution_count": 4,
   "metadata": {},
   "outputs": [],
   "source": [
    "gpu_options = tf.GPUOptions(allow_growth=True)\n",
    "sess = tf.Session(config=tf.ConfigProto(gpu_options=gpu_options))"
   ]
  },
  {
   "cell_type": "code",
   "execution_count": 10,
   "metadata": {},
   "outputs": [],
   "source": [
    "stv=sess.run(st)"
   ]
  },
  {
   "cell_type": "code",
   "execution_count": 19,
   "metadata": {},
   "outputs": [
    {
     "data": {
      "text/plain": [
       "<tf.Operation 'SparseTensor_1/values' type=Const>"
      ]
     },
     "execution_count": 19,
     "metadata": {},
     "output_type": "execute_result"
    }
   ],
   "source": [
    "st.op"
   ]
  },
  {
   "cell_type": "markdown",
   "metadata": {},
   "source": [
    "### tf.while_loop"
   ]
  },
  {
   "cell_type": "code",
   "execution_count": 22,
   "metadata": {},
   "outputs": [
    {
     "data": {
      "text/plain": [
       "10"
      ]
     },
     "execution_count": 22,
     "metadata": {},
     "output_type": "execute_result"
    }
   ],
   "source": [
    "i = tf.constant(0)\n",
    "c = lambda i: tf.less(i, 10)\n",
    "b = lambda i: tf.add(i, 1)\n",
    "r = tf.while_loop(c, b, [i])\n",
    "sess.run(r)"
   ]
  },
  {
   "cell_type": "code",
   "execution_count": 26,
   "metadata": {},
   "outputs": [
    {
     "data": {
      "text/plain": [
       "[10, Pair(j=32, k=64)]"
      ]
     },
     "execution_count": 26,
     "metadata": {},
     "output_type": "execute_result"
    }
   ],
   "source": [
    "import collections\n",
    "Pair = collections.namedtuple('Pair', 'j, k')\n",
    "ijk_0 = [tf.constant(0), Pair(tf.constant(1), tf.constant(2))]\n",
    "c = lambda i, p: i < 10\n",
    "b = lambda i, p: [i + 1, Pair((p.j + p.k), (p.j - p.k))]\n",
    "ijk_final = tf.while_loop(c, b, ijk_0)\n",
    "sess.run(ijk_final)"
   ]
  },
  {
   "cell_type": "code",
   "execution_count": 27,
   "metadata": {},
   "outputs": [
    {
     "data": {
      "text/plain": [
       "[10, array([[1., 1.],\n",
       "        [1., 1.],\n",
       "        [1., 1.],\n",
       "        ...,\n",
       "        [1., 1.],\n",
       "        [1., 1.],\n",
       "        [1., 1.]], dtype=float32)]"
      ]
     },
     "execution_count": 27,
     "metadata": {},
     "output_type": "execute_result"
    }
   ],
   "source": [
    "i0 = tf.constant(0)\n",
    "m0 = tf.ones([2, 2])\n",
    "c = lambda i, m: i < 10\n",
    "b = lambda i, m: [i+1, tf.concat([m, m], axis=0)]\n",
    "final=tf.while_loop(\n",
    "    c, b, loop_vars=[i0, m0],\n",
    "    shape_invariants=[i0.get_shape(), tf.TensorShape([None, 2])])\n",
    "sess.run(final)"
   ]
  },
  {
   "cell_type": "code",
   "execution_count": 43,
   "metadata": {},
   "outputs": [
    {
     "data": {
      "text/plain": [
       "array([2, 2], dtype=int32)"
      ]
     },
     "execution_count": 43,
     "metadata": {},
     "output_type": "execute_result"
    }
   ],
   "source": [
    "a=tf.placeholder(tf.float32,shape=[None,2])\n",
    "sess.run(tf.shape(a),feed_dict={a:np.array([[1,2],[3,2]])})"
   ]
  },
  {
   "cell_type": "code",
   "execution_count": 47,
   "metadata": {},
   "outputs": [
    {
     "name": "stdout",
     "output_type": "stream",
     "text": [
      "10000\n"
     ]
    }
   ],
   "source": [
    "n = 10000\n",
    "x = tf.constant(list(range(n)))\n",
    "c = lambda i, x: i < n\n",
    "b = lambda i, x: (tf.compat.v1.Print(i + 1, [i]), tf.compat.v1.Print(x + 1,\n",
    "[i], \"x:\"))\n",
    "i_final, x_final = tf.while_loop(c, b, (0, x))\n",
    "with tf.compat.v1.Session() as sess:\n",
    "    print(sess.run(i_final))  # prints [0] ... [9999]\n",
    "\n",
    "    # The following line may increment the counter and x in parallel.\n",
    "    # The counter thread may get ahead of the other thread, but not the\n",
    "    # other way around. So you may see things like\n",
    "    # [9996] x:[9987]\n",
    "    # meaning that the counter thread is on iteration 9996,\n",
    "    # while the other thread is on iteration 9987\n",
    "#     print(sess.run(x_final).shape)"
   ]
  },
  {
   "cell_type": "code",
   "execution_count": 56,
   "metadata": {},
   "outputs": [
    {
     "name": "stdout",
     "output_type": "stream",
     "text": [
      "[22]\n",
      "22\n"
     ]
    }
   ],
   "source": [
    "x = tf.constant(2)\n",
    "y = tf.constant(-1)\n",
    "def f1(): return [tf.multiply(x, 17)]\n",
    "def f2(): return [tf.add(y, 23)]\n",
    "r1 = tf.cond(tf.less(x, y), f1, f2,strict=True)\n",
    "r2 = tf.cond(tf.less(x, y), f1, f2,strict=False)\n",
    "with tf.Session() as sess:\n",
    "    print(sess.run(r1))\n",
    "    print(sess.run(r2))"
   ]
  }
 ],
 "metadata": {
  "kernelspec": {
   "display_name": "Python [conda env:tf1_15]",
   "language": "python",
   "name": "conda-env-tf1_15-py"
  },
  "language_info": {
   "codemirror_mode": {
    "name": "ipython",
    "version": 3
   },
   "file_extension": ".py",
   "mimetype": "text/x-python",
   "name": "python",
   "nbconvert_exporter": "python",
   "pygments_lexer": "ipython3",
   "version": "3.7.6"
  },
  "toc": {
   "base_numbering": 1,
   "nav_menu": {},
   "number_sections": true,
   "sideBar": true,
   "skip_h1_title": false,
   "title_cell": "Table of Contents",
   "title_sidebar": "Contents",
   "toc_cell": false,
   "toc_position": {
    "height": "calc(100% - 180px)",
    "left": "10px",
    "top": "150px",
    "width": "165px"
   },
   "toc_section_display": true,
   "toc_window_display": true
  }
 },
 "nbformat": 4,
 "nbformat_minor": 2
}
